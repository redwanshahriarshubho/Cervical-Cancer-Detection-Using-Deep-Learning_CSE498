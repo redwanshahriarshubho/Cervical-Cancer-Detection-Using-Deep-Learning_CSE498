{
 "cells": [
  {
   "cell_type": "code",
   "execution_count": 1,
   "metadata": {
    "_cell_guid": "b1076dfc-b9ad-4769-8c92-a6c4dae69d19",
    "_uuid": "8f2839f25d086af736a60e9eeb907d3b93b6e0e5"
   },
   "outputs": [],
   "source": [
    "# Importing Necessary Libraries\n",
    "import cv2\n",
    "import os\n",
    "import shutil \n",
    "import math\n",
    "import random\n",
    "import numpy as np\n",
    "import pandas as pd \n",
    "import matplotlib.pyplot as plt\n",
    "\n",
    "\n",
    "import warnings\n",
    "warnings.filterwarnings(\"ignore\")"
   ]
  },
  {
   "cell_type": "code",
   "execution_count": 2,
   "metadata": {},
   "outputs": [],
   "source": [
    "import os\n",
    "import cv2\n",
    "\n",
    "# Function for Formatting Dataset\n",
    "def FormatDataset(dataset_src, dataset_dest, classes):\n",
    "    # Making destination folders for each class and type (CROPPED and COMPLETE)\n",
    "    new_cropped_dest = [os.path.join(dataset_dest, cls, 'CROPPED') for cls in classes]\n",
    "    new_complete_dest = [os.path.join(dataset_dest, cls, 'COMPLETE') for cls in classes]\n",
    "    \n",
    "    cropped_src = [os.path.join(dataset_src, f\"im_{cls}\", \"im_\" + cls, \"CROPPED\") for cls in classes]\n",
    "    complete_src = [os.path.join(dataset_src, f\"im_{cls}\", \"im_\" + cls) for cls in classes]\n",
    "    \n",
    "    # Creating necessary directories only if they don't already exist\n",
    "    for dest1, dest2 in zip(new_cropped_dest, new_complete_dest):\n",
    "        if not os.path.isdir(dest1):\n",
    "            os.makedirs(dest1, exist_ok=True)\n",
    "        if not os.path.isdir(dest2):\n",
    "            os.makedirs(dest2, exist_ok=True)\n",
    "    \n",
    "    # Formatting Cropped Images\n",
    "    for src, new_dest in zip(cropped_src, new_cropped_dest):\n",
    "        if os.path.exists(src):\n",
    "            for file in os.listdir(src):\n",
    "                filename, file_ext = os.path.splitext(file)\n",
    "                if file_ext.lower() == '.bmp':\n",
    "                    img_des = os.path.join(new_dest, filename + '.jpg')\n",
    "                    img = cv2.imread(os.path.join(src, file))\n",
    "                    if img is not None:\n",
    "                        img = cv2.resize(img, (64, 64))\n",
    "                        img = cv2.copyMakeBorder(img, 1, 1, 1, 1, cv2.BORDER_CONSTANT, value=0)\n",
    "                        img = cv2.blur(img, (2, 2))\n",
    "                        cv2.imwrite(img_des, img)\n",
    "    \n",
    "    # Formatting Complete Images\n",
    "    for src, new_dest in zip(complete_src, new_complete_dest):\n",
    "        if os.path.exists(src):\n",
    "            for file in os.listdir(src):\n",
    "                filename, file_ext = os.path.splitext(file)\n",
    "                if file_ext.lower() == '.bmp':\n",
    "                    img_des = os.path.join(new_dest, filename + '.jpg')\n",
    "                    img = cv2.imread(os.path.join(src, file))\n",
    "                    if img is not None:\n",
    "                        img = cv2.resize(img, (256, 256))\n",
    "                        img = cv2.copyMakeBorder(img, 2, 2, 2, 2, cv2.BORDER_CONSTANT, value=0)\n",
    "                        img = cv2.blur(img, (2, 2))\n",
    "                        cv2.imwrite(img_des, img)\n",
    "\n",
    "# Source Location for Dataset\n",
    "src = 'D:/DeepLearning/test/input/cervical-cancer-largest-dataset-sipakmed'\n",
    "# Destination Location for Dataset\n",
    "dest = 'D:/DeepLearning/test/CervicalCancer'\n",
    "# Image Classes\n",
    "classes = [\"Dyskeratotic\", \"Koilocytotic\", \"Metaplastic\", \"Parabasal\", \"Superficial-Intermediate\"]\n",
    "\n",
    "# Formatting Dataset\n",
    "FormatDataset(src, dest, classes)\n"
   ]
  },
  {
   "cell_type": "code",
   "execution_count": 3,
   "metadata": {},
   "outputs": [
    {
     "name": "stdout",
     "output_type": "stream",
     "text": [
      "{'Dyskeratotic': 223, 'Koilocytotic': 238, 'Metaplastic': 271, 'Parabasal': 108, 'Superficial-Intermediate': 126}\n"
     ]
    }
   ],
   "source": [
    "root_dir = \"D:/DeepLearning/test/CervicalCancer\"\n",
    "classes = [\"Dyskeratotic\",\"Koilocytotic\",\"Metaplastic\",\"Parabasal\",\"Superficial-Intermediate\"]\n",
    "\n",
    "def GetDatasetSize(path, classes, main = \"CROPPED\"):\n",
    "    num_of_image = {}\n",
    "    for cls in classes:\n",
    "        # Counting the Number of Files in the Folder\n",
    "        num_of_image[cls] = len(os.listdir(os.path.join(path, cls, main)));\n",
    "    return num_of_image;\n",
    "\n",
    "print(GetDatasetSize(root_dir, classes, \"COMPLETE\"));"
   ]
  },
  {
   "cell_type": "markdown",
   "metadata": {},
   "source": [
    "### Split the Dataset such that we have\n",
    "* 70% for Train Data\n",
    "* 15% for Validation Data\n",
    "* 15% for Testing Data"
   ]
  },
  {
   "cell_type": "code",
   "execution_count": 4,
   "metadata": {},
   "outputs": [
    {
     "name": "stdout",
     "output_type": "stream",
     "text": [
      "Dyskeratotic :\n",
      "Total images:  813\n",
      "Training:  569\n",
      "Validation:  122\n",
      "Testing:  122\n",
      "\n",
      "Koilocytotic :\n",
      "Total images:  825\n",
      "Training:  577\n",
      "Validation:  124\n",
      "Testing:  124\n",
      "\n",
      "Metaplastic :\n",
      "Total images:  793\n",
      "Training:  555\n",
      "Validation:  119\n",
      "Testing:  119\n",
      "\n",
      "Parabasal :\n",
      "Total images:  787\n",
      "Training:  550\n",
      "Validation:  118\n",
      "Testing:  119\n",
      "\n",
      "Superficial-Intermediate :\n",
      "Total images:  831\n",
      "Training:  581\n",
      "Validation:  125\n",
      "Testing:  125\n",
      "\n"
     ]
    }
   ],
   "source": [
    "import os\n",
    "import numpy as np\n",
    "import shutil\n",
    "\n",
    "# Function for Creating Train / Validation / Test folders (One time use Only)\n",
    "def TrainValTestSplit(root_dir, classes_dir, main=\"CROPPED\", val_ratio=0.15, test_ratio=0.15):\n",
    "    # Base directories for train, val, and test splits\n",
    "    train_base_dir = 'train'\n",
    "    val_base_dir = 'val'\n",
    "    test_base_dir = 'test'\n",
    "    \n",
    "    # Creating base folders if they don't already exist\n",
    "    os.makedirs(train_base_dir, exist_ok=True)\n",
    "    os.makedirs(val_base_dir, exist_ok=True)\n",
    "    os.makedirs(test_base_dir, exist_ok=True)\n",
    "\n",
    "    for cls in classes_dir:\n",
    "        # Creating Split Folders for each class\n",
    "        os.makedirs(os.path.join(train_base_dir, cls), exist_ok=True)\n",
    "        os.makedirs(os.path.join(val_base_dir, cls), exist_ok=True)\n",
    "        os.makedirs(os.path.join(test_base_dir, cls), exist_ok=True)\n",
    "\n",
    "        # Folder to copy images from\n",
    "        src = os.path.join(root_dir, cls, main)\n",
    "\n",
    "        # Splitting the Files in the Given ratio\n",
    "        allFileNames = os.listdir(src)\n",
    "        np.random.shuffle(allFileNames)\n",
    "        train_FileNames, val_FileNames, test_FileNames = np.split(\n",
    "            np.array(allFileNames), \n",
    "            [int(len(allFileNames) * (1 - (val_ratio + test_ratio))), \n",
    "             int(len(allFileNames) * (1 - test_ratio))]\n",
    "        )\n",
    "\n",
    "        train_FileNames = [os.path.join(src, name) for name in train_FileNames.tolist()]\n",
    "        val_FileNames = [os.path.join(src, name) for name in val_FileNames.tolist()]\n",
    "        test_FileNames = [os.path.join(src, name) for name in test_FileNames.tolist()]\n",
    "\n",
    "        # Printing the Split Details\n",
    "        print(cls, ':')\n",
    "        print('Total images: ', len(allFileNames))\n",
    "        print('Training: ', len(train_FileNames))\n",
    "        print('Validation: ', len(val_FileNames))\n",
    "        print('Testing: ', len(test_FileNames))\n",
    "\n",
    "        # Copy-pasting images\n",
    "        for name in train_FileNames:\n",
    "            shutil.copy(name, os.path.join(train_base_dir, cls))\n",
    "\n",
    "        for name in val_FileNames:\n",
    "            shutil.copy(name, os.path.join(val_base_dir, cls))\n",
    "\n",
    "        for name in test_FileNames:\n",
    "            shutil.copy(name, os.path.join(test_base_dir, cls))\n",
    "        print()\n",
    "\n",
    "# Performing Train / Validation / Test Split\n",
    "root_dir = \"./CervicalCancer\"  # Dataset Root Folder\n",
    "classes_dir = [\"Dyskeratotic\", \"Koilocytotic\", \"Metaplastic\", \"Parabasal\", \"Superficial-Intermediate\"]  # Classes\n",
    "TrainValTestSplit(root_dir, classes_dir)\n"
   ]
  },
  {
   "cell_type": "markdown",
   "metadata": {},
   "source": [
    "### Building Model \n"
   ]
  },
  {
   "cell_type": "code",
   "execution_count": 5,
   "metadata": {},
   "outputs": [
    {
     "name": "stdout",
     "output_type": "stream",
     "text": [
      "WARNING:tensorflow:From D:\\DeepLearning\\anaconda3\\Lib\\site-packages\\keras\\src\\losses.py:2976: The name tf.losses.sparse_softmax_cross_entropy is deprecated. Please use tf.compat.v1.losses.sparse_softmax_cross_entropy instead.\n",
      "\n"
     ]
    }
   ],
   "source": [
    "# Importing Keras for Image Classification\n",
    "import keras\n",
    "from keras.layers import Dense,Conv2D, Flatten, MaxPool2D, Dropout\n",
    "from keras.models import Sequential\n",
    "from keras.preprocessing import image\n",
    "from keras.callbacks import ModelCheckpoint\n",
    "from keras.models import load_model"
   ]
  },
  {
   "cell_type": "code",
   "execution_count": 6,
   "metadata": {},
   "outputs": [
    {
     "name": "stdout",
     "output_type": "stream",
     "text": [
      "WARNING:tensorflow:From D:\\DeepLearning\\anaconda3\\Lib\\site-packages\\keras\\src\\backend.py:873: The name tf.get_default_graph is deprecated. Please use tf.compat.v1.get_default_graph instead.\n",
      "\n",
      "WARNING:tensorflow:From D:\\DeepLearning\\anaconda3\\Lib\\site-packages\\keras\\src\\layers\\pooling\\max_pooling2d.py:161: The name tf.nn.max_pool is deprecated. Please use tf.nn.max_pool2d instead.\n",
      "\n",
      "WARNING:tensorflow:From D:\\DeepLearning\\anaconda3\\Lib\\site-packages\\keras\\src\\optimizers\\__init__.py:309: The name tf.train.Optimizer is deprecated. Please use tf.compat.v1.train.Optimizer instead.\n",
      "\n",
      "Model: \"sequential\"\n",
      "_________________________________________________________________\n",
      " Layer (type)                Output Shape              Param #   \n",
      "=================================================================\n",
      " conv2d (Conv2D)             (None, 62, 62, 16)        448       \n",
      "                                                                 \n",
      " conv2d_1 (Conv2D)           (None, 60, 60, 32)        4640      \n",
      "                                                                 \n",
      " max_pooling2d (MaxPooling2  (None, 30, 30, 32)        0         \n",
      " D)                                                              \n",
      "                                                                 \n",
      " conv2d_2 (Conv2D)           (None, 28, 28, 64)        18496     \n",
      "                                                                 \n",
      " max_pooling2d_1 (MaxPoolin  (None, 14, 14, 64)        0         \n",
      " g2D)                                                            \n",
      "                                                                 \n",
      " conv2d_3 (Conv2D)           (None, 12, 12, 128)       73856     \n",
      "                                                                 \n",
      " max_pooling2d_2 (MaxPoolin  (None, 6, 6, 128)         0         \n",
      " g2D)                                                            \n",
      "                                                                 \n",
      " dropout (Dropout)           (None, 6, 6, 128)         0         \n",
      "                                                                 \n",
      " flatten (Flatten)           (None, 4608)              0         \n",
      "                                                                 \n",
      " dense (Dense)               (None, 64)                294976    \n",
      "                                                                 \n",
      " dropout_1 (Dropout)         (None, 64)                0         \n",
      "                                                                 \n",
      " dense_1 (Dense)             (None, 5)                 325       \n",
      "                                                                 \n",
      "=================================================================\n",
      "Total params: 392741 (1.50 MB)\n",
      "Trainable params: 392741 (1.50 MB)\n",
      "Non-trainable params: 0 (0.00 Byte)\n",
      "_________________________________________________________________\n"
     ]
    }
   ],
   "source": [
    "# CNN Model \n",
    "\n",
    "model = Sequential() \n",
    "# Convolutional Layer with input shape (64,64,3)\n",
    "model.add(Conv2D(filters=16, kernel_size= (3,3), activation= 'relu', input_shape=(64,64,3)) )\n",
    "\n",
    "model.add(Conv2D(filters=32, kernel_size=(3,3), activation='relu' ))\n",
    "model.add(MaxPool2D(pool_size=(2,2)))\n",
    "\n",
    "\n",
    "model.add(Conv2D(filters=64, kernel_size=(3,3), activation='relu' ))\n",
    "model.add(MaxPool2D(pool_size=(2,2)))\n",
    "\n",
    "\n",
    "model.add(Conv2D(filters=128, kernel_size=(3,3), activation='relu' ))\n",
    "model.add(MaxPool2D(pool_size=(2,2)))\n",
    "\n",
    "model.add(Dropout(rate=0.25))\n",
    "\n",
    "model.add(Flatten())\n",
    "model.add(Dense(units=64, activation='relu'))\n",
    "model.add(Dropout(rate=0.25))\n",
    "model.add(Dense(units=5, activation='sigmoid'))\n",
    "\n",
    "model.compile(optimizer='adam', loss='categorical_crossentropy', metrics=['accuracy']  )\n",
    " \n",
    "model.summary()"
   ]
  },
  {
   "cell_type": "code",
   "execution_count": 7,
   "metadata": {},
   "outputs": [
    {
     "name": "stdout",
     "output_type": "stream",
     "text": [
      "Total number of parameters: 392741\n",
      "Total number of computations: 51088645\n",
      "Model: \"sequential_1\"\n",
      "_________________________________________________________________\n",
      " Layer (type)                Output Shape              Param #   \n",
      "=================================================================\n",
      " conv2d_4 (Conv2D)           (None, 62, 62, 16)        448       \n",
      "                                                                 \n",
      " conv2d_5 (Conv2D)           (None, 60, 60, 32)        4640      \n",
      "                                                                 \n",
      " max_pooling2d_3 (MaxPoolin  (None, 30, 30, 32)        0         \n",
      " g2D)                                                            \n",
      "                                                                 \n",
      " conv2d_6 (Conv2D)           (None, 28, 28, 64)        18496     \n",
      "                                                                 \n",
      " max_pooling2d_4 (MaxPoolin  (None, 14, 14, 64)        0         \n",
      " g2D)                                                            \n",
      "                                                                 \n",
      " conv2d_7 (Conv2D)           (None, 12, 12, 128)       73856     \n",
      "                                                                 \n",
      " max_pooling2d_5 (MaxPoolin  (None, 6, 6, 128)         0         \n",
      " g2D)                                                            \n",
      "                                                                 \n",
      " dropout_2 (Dropout)         (None, 6, 6, 128)         0         \n",
      "                                                                 \n",
      " flatten_1 (Flatten)         (None, 4608)              0         \n",
      "                                                                 \n",
      " dense_2 (Dense)             (None, 64)                294976    \n",
      "                                                                 \n",
      " dropout_3 (Dropout)         (None, 64)                0         \n",
      "                                                                 \n",
      " dense_3 (Dense)             (None, 5)                 325       \n",
      "                                                                 \n",
      "=================================================================\n",
      "Total params: 392741 (1.50 MB)\n",
      "Trainable params: 392741 (1.50 MB)\n",
      "Non-trainable params: 0 (0.00 Byte)\n",
      "_________________________________________________________________\n"
     ]
    }
   ],
   "source": [
    "model = Sequential()\n",
    "\n",
    "# Convolutional Layer with input shape (64,64,3)\n",
    "model.add(Conv2D(filters=16, kernel_size=(3, 3), activation='relu', input_shape=(64, 64, 3)))\n",
    "\n",
    "model.add(Conv2D(filters=32, kernel_size=(3, 3), activation='relu'))\n",
    "model.add(MaxPool2D(pool_size=(2, 2)))\n",
    "\n",
    "model.add(Conv2D(filters=64, kernel_size=(3, 3), activation='relu'))\n",
    "model.add(MaxPool2D(pool_size=(2, 2)))\n",
    "\n",
    "model.add(Conv2D(filters=128, kernel_size=(3, 3), activation='relu'))\n",
    "model.add(MaxPool2D(pool_size=(2, 2)))\n",
    "\n",
    "model.add(Dropout(rate=0.25))\n",
    "\n",
    "model.add(Flatten())\n",
    "model.add(Dense(units=64, activation='relu'))\n",
    "model.add(Dropout(rate=0.25))\n",
    "model.add(Dense(units=5, activation='sigmoid'))\n",
    "\n",
    "model.compile(optimizer='adam', loss='categorical_crossentropy', metrics=['accuracy'])\n",
    "\n",
    "# Function to calculate number of computations for a layer\n",
    "def compute_params_ops(layer):\n",
    "    params = 0\n",
    "    ops = 0\n",
    "    try:\n",
    "        params = layer.count_params()\n",
    "        ops = params\n",
    "        if layer.input_shape and len(layer.input_shape) == 4:\n",
    "            ops *= layer.input_shape[1] * layer.input_shape[2]\n",
    "    except Exception as e:\n",
    "        print(f\"An exception occurred for layer {layer}: {str(e)}\")\n",
    "    return params, ops\n",
    "\n",
    "total_params, total_ops = 0, 0\n",
    "\n",
    "for layer in model.layers:\n",
    "    params, ops = compute_params_ops(layer)\n",
    "    total_params += params\n",
    "    total_ops += ops\n",
    "\n",
    "print(f\"Total number of parameters: {total_params}\")\n",
    "print(f\"Total number of computations: {total_ops}\")\n",
    "model.summary()"
   ]
  },
  {
   "cell_type": "markdown",
   "metadata": {},
   "source": [
    "### Preparing data using data generator "
   ]
  },
  {
   "cell_type": "code",
   "execution_count": 8,
   "metadata": {},
   "outputs": [],
   "source": [
    "# Expand the size of dataset with new transformed images from the original dataset using ImageDataGenerator.\n",
    "train_datagen = image.ImageDataGenerator(zoom_range = 0.2, shear_range = 0.2 , rescale = 1./255 , horizontal_flip=True)\n",
    "val_datagen = image.ImageDataGenerator(rescale = 1./255)\n",
    "test_datagen = image.ImageDataGenerator(rescale = 1./255)"
   ]
  },
  {
   "cell_type": "code",
   "execution_count": 9,
   "metadata": {},
   "outputs": [
    {
     "name": "stdout",
     "output_type": "stream",
     "text": [
      "Found 4035 images belonging to 5 classes.\n"
     ]
    }
   ],
   "source": [
    "train_data = train_datagen.flow_from_directory(directory= \"D:/DeepLearning/test/train\", target_size=(64, 64), batch_size=100, class_mode = 'categorical')"
   ]
  },
  {
   "cell_type": "code",
   "execution_count": 10,
   "metadata": {},
   "outputs": [
    {
     "data": {
      "text/plain": [
       "{'Dyskeratotic': 0,\n",
       " 'Koilocytotic': 1,\n",
       " 'Metaplastic': 2,\n",
       " 'Parabasal': 3,\n",
       " 'Superficial-Intermediate': 4}"
      ]
     },
     "execution_count": 10,
     "metadata": {},
     "output_type": "execute_result"
    }
   ],
   "source": [
    "train_data.class_indices"
   ]
  },
  {
   "cell_type": "code",
   "execution_count": 11,
   "metadata": {},
   "outputs": [
    {
     "name": "stdout",
     "output_type": "stream",
     "text": [
      "Found 2239 images belonging to 5 classes.\n"
     ]
    }
   ],
   "source": [
    "val_data = val_datagen.flow_from_directory(directory= \"D:/DeepLearning/test/val\", target_size=(64, 64), batch_size=100, class_mode = 'categorical')"
   ]
  },
  {
   "cell_type": "code",
   "execution_count": 12,
   "metadata": {},
   "outputs": [
    {
     "name": "stdout",
     "output_type": "stream",
     "text": [
      "Found 2264 images belonging to 5 classes.\n"
     ]
    }
   ],
   "source": [
    "test_data = test_datagen.flow_from_directory(directory= \"D:/DeepLearning/test/test\", target_size=(64, 64), batch_size=100, class_mode = 'categorical')"
   ]
  },
  {
   "cell_type": "code",
   "execution_count": 13,
   "metadata": {},
   "outputs": [],
   "source": [
    "# Adding Model check point Callback\n",
    "mc = ModelCheckpoint(filepath=\"cervical_cancer_best_model.hdf5\", monitor= 'val_accuracy', verbose= 1, save_best_only= True, mode = 'auto');\n",
    "call_back = [ mc ];"
   ]
  },
  {
   "cell_type": "code",
   "execution_count": 14,
   "metadata": {},
   "outputs": [
    {
     "name": "stdout",
     "output_type": "stream",
     "text": [
      "Epoch 1/32\n",
      "WARNING:tensorflow:From D:\\DeepLearning\\anaconda3\\Lib\\site-packages\\keras\\src\\utils\\tf_utils.py:492: The name tf.ragged.RaggedTensorValue is deprecated. Please use tf.compat.v1.ragged.RaggedTensorValue instead.\n",
      "\n",
      "WARNING:tensorflow:From D:\\DeepLearning\\anaconda3\\Lib\\site-packages\\keras\\src\\engine\\base_layer_utils.py:384: The name tf.executing_eagerly_outside_functions is deprecated. Please use tf.compat.v1.executing_eagerly_outside_functions instead.\n",
      "\n",
      "28/28 [==============================] - ETA: 0s - loss: 1.2730 - accuracy: 0.4475\n",
      "Epoch 1: val_accuracy improved from -inf to 0.63000, saving model to cervical_cancer_best_model.hdf5\n",
      "28/28 [==============================] - 30s 887ms/step - loss: 1.2730 - accuracy: 0.4475 - val_loss: 1.0181 - val_accuracy: 0.6300\n",
      "Epoch 2/32\n",
      "28/28 [==============================] - ETA: 0s - loss: 1.0217 - accuracy: 0.6062\n",
      "Epoch 2: val_accuracy improved from 0.63000 to 0.68167, saving model to cervical_cancer_best_model.hdf5\n",
      "28/28 [==============================] - 12s 439ms/step - loss: 1.0217 - accuracy: 0.6062 - val_loss: 0.8792 - val_accuracy: 0.6817\n",
      "Epoch 3/32\n",
      "28/28 [==============================] - ETA: 0s - loss: 0.8987 - accuracy: 0.6728\n",
      "Epoch 3: val_accuracy improved from 0.68167 to 0.70667, saving model to cervical_cancer_best_model.hdf5\n",
      "28/28 [==============================] - 8s 303ms/step - loss: 0.8987 - accuracy: 0.6728 - val_loss: 0.8057 - val_accuracy: 0.7067\n",
      "Epoch 4/32\n",
      "28/28 [==============================] - ETA: 0s - loss: 0.8256 - accuracy: 0.6998\n",
      "Epoch 4: val_accuracy improved from 0.70667 to 0.73333, saving model to cervical_cancer_best_model.hdf5\n",
      "28/28 [==============================] - 7s 251ms/step - loss: 0.8256 - accuracy: 0.6998 - val_loss: 0.7112 - val_accuracy: 0.7333\n",
      "Epoch 5/32\n",
      "27/28 [===========================>..] - ETA: 0s - loss: 0.7199 - accuracy: 0.7385\n",
      "Epoch 5: val_accuracy improved from 0.73333 to 0.77667, saving model to cervical_cancer_best_model.hdf5\n",
      "28/28 [==============================] - 6s 227ms/step - loss: 0.7210 - accuracy: 0.7382 - val_loss: 0.6407 - val_accuracy: 0.7767\n",
      "Epoch 6/32\n",
      "28/28 [==============================] - ETA: 0s - loss: 0.6850 - accuracy: 0.7408\n",
      "Epoch 6: val_accuracy did not improve from 0.77667\n",
      "28/28 [==============================] - 6s 211ms/step - loss: 0.6850 - accuracy: 0.7408 - val_loss: 0.6357 - val_accuracy: 0.7733\n",
      "Epoch 7/32\n",
      "28/28 [==============================] - ETA: 0s - loss: 0.6654 - accuracy: 0.7580\n",
      "Epoch 7: val_accuracy did not improve from 0.77667\n",
      "28/28 [==============================] - 5s 191ms/step - loss: 0.6654 - accuracy: 0.7580 - val_loss: 0.6370 - val_accuracy: 0.7483\n",
      "Epoch 8/32\n",
      "28/28 [==============================] - ETA: 0s - loss: 0.6143 - accuracy: 0.7737\n",
      "Epoch 8: val_accuracy improved from 0.77667 to 0.79667, saving model to cervical_cancer_best_model.hdf5\n",
      "28/28 [==============================] - 6s 197ms/step - loss: 0.6143 - accuracy: 0.7737 - val_loss: 0.5411 - val_accuracy: 0.7967\n",
      "Epoch 9/32\n",
      "28/28 [==============================] - ETA: 0s - loss: 0.5833 - accuracy: 0.7868\n",
      "Epoch 9: val_accuracy improved from 0.79667 to 0.84333, saving model to cervical_cancer_best_model.hdf5\n",
      "28/28 [==============================] - 5s 193ms/step - loss: 0.5833 - accuracy: 0.7868 - val_loss: 0.4678 - val_accuracy: 0.8433\n",
      "Epoch 10/32\n",
      "28/28 [==============================] - ETA: 0s - loss: 0.5595 - accuracy: 0.7923\n",
      "Epoch 10: val_accuracy did not improve from 0.84333\n",
      "28/28 [==============================] - 5s 183ms/step - loss: 0.5595 - accuracy: 0.7923 - val_loss: 0.6753 - val_accuracy: 0.7183\n",
      "Epoch 11/32\n",
      "28/28 [==============================] - ETA: 0s - loss: 0.5168 - accuracy: 0.8077\n",
      "Epoch 11: val_accuracy improved from 0.84333 to 0.84833, saving model to cervical_cancer_best_model.hdf5\n",
      "28/28 [==============================] - 5s 185ms/step - loss: 0.5168 - accuracy: 0.8077 - val_loss: 0.4215 - val_accuracy: 0.8483\n",
      "Epoch 12/32\n",
      "28/28 [==============================] - ETA: 0s - loss: 0.4660 - accuracy: 0.8346\n",
      "Epoch 12: val_accuracy did not improve from 0.84833\n",
      "28/28 [==============================] - 5s 185ms/step - loss: 0.4660 - accuracy: 0.8346 - val_loss: 0.4239 - val_accuracy: 0.8400\n",
      "Epoch 13/32\n",
      "28/28 [==============================] - ETA: 0s - loss: 0.4385 - accuracy: 0.8400\n",
      "Epoch 13: val_accuracy improved from 0.84833 to 0.87167, saving model to cervical_cancer_best_model.hdf5\n",
      "28/28 [==============================] - 5s 190ms/step - loss: 0.4385 - accuracy: 0.8400 - val_loss: 0.3379 - val_accuracy: 0.8717\n",
      "Epoch 14/32\n",
      "28/28 [==============================] - ETA: 0s - loss: 0.3979 - accuracy: 0.8603\n",
      "Epoch 14: val_accuracy did not improve from 0.87167\n",
      "28/28 [==============================] - 5s 179ms/step - loss: 0.3979 - accuracy: 0.8603 - val_loss: 0.3687 - val_accuracy: 0.8717\n",
      "Epoch 15/32\n",
      "28/28 [==============================] - ETA: 0s - loss: 0.4073 - accuracy: 0.8607\n",
      "Epoch 15: val_accuracy did not improve from 0.87167\n",
      "28/28 [==============================] - 5s 182ms/step - loss: 0.4073 - accuracy: 0.8607 - val_loss: 0.3540 - val_accuracy: 0.8633\n",
      "Epoch 16/32\n",
      "28/28 [==============================] - ETA: 0s - loss: 0.3810 - accuracy: 0.8614\n",
      "Epoch 16: val_accuracy did not improve from 0.87167\n",
      "28/28 [==============================] - 5s 178ms/step - loss: 0.3810 - accuracy: 0.8614 - val_loss: 0.3768 - val_accuracy: 0.8617\n",
      "Epoch 17/32\n",
      "28/28 [==============================] - ETA: 0s - loss: 0.3907 - accuracy: 0.8657\n",
      "Epoch 17: val_accuracy improved from 0.87167 to 0.87833, saving model to cervical_cancer_best_model.hdf5\n",
      "28/28 [==============================] - 5s 194ms/step - loss: 0.3907 - accuracy: 0.8657 - val_loss: 0.3136 - val_accuracy: 0.8783\n",
      "Epoch 18/32\n",
      "28/28 [==============================] - ETA: 0s - loss: 0.3791 - accuracy: 0.8662\n",
      "Epoch 18: val_accuracy improved from 0.87833 to 0.88000, saving model to cervical_cancer_best_model.hdf5\n",
      "28/28 [==============================] - 5s 184ms/step - loss: 0.3791 - accuracy: 0.8662 - val_loss: 0.3201 - val_accuracy: 0.8800\n",
      "Epoch 19/32\n",
      "28/28 [==============================] - ETA: 0s - loss: 0.3821 - accuracy: 0.8665\n",
      "Epoch 19: val_accuracy improved from 0.88000 to 0.88167, saving model to cervical_cancer_best_model.hdf5\n",
      "28/28 [==============================] - 5s 186ms/step - loss: 0.3821 - accuracy: 0.8665 - val_loss: 0.3035 - val_accuracy: 0.8817\n",
      "Epoch 20/32\n",
      "27/28 [===========================>..] - ETA: 0s - loss: 0.3370 - accuracy: 0.8737\n",
      "Epoch 20: val_accuracy improved from 0.88167 to 0.88667, saving model to cervical_cancer_best_model.hdf5\n",
      "28/28 [==============================] - 5s 193ms/step - loss: 0.3371 - accuracy: 0.8742 - val_loss: 0.3085 - val_accuracy: 0.8867\n",
      "Epoch 21/32\n",
      "28/28 [==============================] - ETA: 0s - loss: 0.3461 - accuracy: 0.8735\n",
      "Epoch 21: val_accuracy did not improve from 0.88667\n",
      "28/28 [==============================] - 5s 182ms/step - loss: 0.3461 - accuracy: 0.8735 - val_loss: 0.3344 - val_accuracy: 0.8850\n",
      "Epoch 22/32\n",
      "28/28 [==============================] - ETA: 0s - loss: 0.3636 - accuracy: 0.8679\n",
      "Epoch 22: val_accuracy improved from 0.88667 to 0.90333, saving model to cervical_cancer_best_model.hdf5\n",
      "28/28 [==============================] - 5s 190ms/step - loss: 0.3636 - accuracy: 0.8679 - val_loss: 0.2676 - val_accuracy: 0.9033\n",
      "Epoch 23/32\n",
      "28/28 [==============================] - ETA: 0s - loss: 0.3047 - accuracy: 0.8929\n",
      "Epoch 23: val_accuracy improved from 0.90333 to 0.92000, saving model to cervical_cancer_best_model.hdf5\n",
      "28/28 [==============================] - 5s 188ms/step - loss: 0.3047 - accuracy: 0.8929 - val_loss: 0.2665 - val_accuracy: 0.9200\n",
      "Epoch 24/32\n",
      "28/28 [==============================] - ETA: 0s - loss: 0.3195 - accuracy: 0.8848\n",
      "Epoch 24: val_accuracy did not improve from 0.92000\n",
      "28/28 [==============================] - 5s 181ms/step - loss: 0.3195 - accuracy: 0.8848 - val_loss: 0.2855 - val_accuracy: 0.9017\n",
      "Epoch 25/32\n",
      "28/28 [==============================] - ETA: 0s - loss: 0.3373 - accuracy: 0.8804\n",
      "Epoch 25: val_accuracy did not improve from 0.92000\n",
      "28/28 [==============================] - 5s 181ms/step - loss: 0.3373 - accuracy: 0.8804 - val_loss: 0.3349 - val_accuracy: 0.8800\n",
      "Epoch 26/32\n",
      "28/28 [==============================] - ETA: 0s - loss: 0.3204 - accuracy: 0.8815\n",
      "Epoch 26: val_accuracy did not improve from 0.92000\n",
      "28/28 [==============================] - 5s 179ms/step - loss: 0.3204 - accuracy: 0.8815 - val_loss: 0.2338 - val_accuracy: 0.9183\n",
      "Epoch 27/32\n",
      "28/28 [==============================] - ETA: 0s - loss: 0.2978 - accuracy: 0.8980\n",
      "Epoch 27: val_accuracy did not improve from 0.92000\n",
      "28/28 [==============================] - 5s 181ms/step - loss: 0.2978 - accuracy: 0.8980 - val_loss: 0.2386 - val_accuracy: 0.9167\n",
      "Epoch 28/32\n",
      "28/28 [==============================] - ETA: 0s - loss: 0.2816 - accuracy: 0.8991\n",
      "Epoch 28: val_accuracy did not improve from 0.92000\n",
      "28/28 [==============================] - 5s 180ms/step - loss: 0.2816 - accuracy: 0.8991 - val_loss: 0.2154 - val_accuracy: 0.9167\n",
      "Epoch 29/32\n",
      "28/28 [==============================] - ETA: 0s - loss: 0.2553 - accuracy: 0.9129\n",
      "Epoch 29: val_accuracy did not improve from 0.92000\n",
      "28/28 [==============================] - 5s 186ms/step - loss: 0.2553 - accuracy: 0.9129 - val_loss: 0.2379 - val_accuracy: 0.9133\n",
      "Epoch 30/32\n",
      "28/28 [==============================] - ETA: 0s - loss: 0.2588 - accuracy: 0.9046\n",
      "Epoch 30: val_accuracy did not improve from 0.92000\n",
      "28/28 [==============================] - 5s 184ms/step - loss: 0.2588 - accuracy: 0.9046 - val_loss: 0.2438 - val_accuracy: 0.9100\n",
      "Epoch 31/32\n",
      "28/28 [==============================] - ETA: 0s - loss: 0.2617 - accuracy: 0.9027\n",
      "Epoch 31: val_accuracy improved from 0.92000 to 0.93000, saving model to cervical_cancer_best_model.hdf5\n",
      "28/28 [==============================] - 5s 190ms/step - loss: 0.2617 - accuracy: 0.9027 - val_loss: 0.1965 - val_accuracy: 0.9300\n",
      "Epoch 32/32\n",
      "27/28 [===========================>..] - ETA: 0s - loss: 0.2523 - accuracy: 0.9089\n",
      "Epoch 32: val_accuracy did not improve from 0.93000\n",
      "28/28 [==============================] - 5s 179ms/step - loss: 0.2510 - accuracy: 0.9097 - val_loss: 0.1971 - val_accuracy: 0.9250\n"
     ]
    }
   ],
   "source": [
    "# Fitting the Model\n",
    "cnn = model.fit(train_data, \n",
    "                  steps_per_epoch= 28, \n",
    "                  epochs= 32,\n",
    "                  validation_data= val_data, \n",
    "                  validation_steps= 6,\n",
    "                  callbacks = call_back )"
   ]
  },
  {
   "cell_type": "code",
   "execution_count": 15,
   "metadata": {},
   "outputs": [],
   "source": [
    "# Loading the Best Fit Model \n",
    "model = load_model(\"./cervical_cancer_best_model.hdf5\")"
   ]
  },
  {
   "cell_type": "markdown",
   "metadata": {},
   "source": [
    "### Model Accuracy"
   ]
  },
  {
   "cell_type": "code",
   "execution_count": 16,
   "metadata": {},
   "outputs": [
    {
     "name": "stdout",
     "output_type": "stream",
     "text": [
      "The accuracy of your model is = 93.33038926124573 %\n"
     ]
    }
   ],
   "source": [
    "# Checking the Accuracy of the Model \n",
    "accuracy = model.evaluate_generator(generator= test_data)[1] \n",
    "print(f\"The accuracy of your model is = {accuracy*100} %\")"
   ]
  },
  {
   "cell_type": "code",
   "execution_count": 17,
   "metadata": {},
   "outputs": [],
   "source": [
    "h =  cnn.history;\n",
    "h.keys();"
   ]
  },
  {
   "cell_type": "code",
   "execution_count": 18,
   "metadata": {},
   "outputs": [
    {
     "data": {
      "image/png": "[encoded data removed]",
      "text/plain": [
       "<Figure size 640x480 with 1 Axes>"
      ]
     },
     "metadata": {},
     "output_type": "display_data"
    }
   ],
   "source": [
    "# Ploting Accuracy In Training Set & Validation Set\n",
    "\n",
    "plt.plot(h['accuracy'])\n",
    "plt.plot(h['val_accuracy'] , c = \"red\")\n",
    "plt.title(\"acc vs v-acc\")\n",
    "plt.show()"
   ]
  },
  {
   "cell_type": "code",
   "execution_count": 19,
   "metadata": {},
   "outputs": [
    {
     "data": {
      "image/png": "[encoded data removed]",
      "text/plain": [
       "<Figure size 640x480 with 1 Axes>"
      ]
     },
     "metadata": {},
     "output_type": "display_data"
    }
   ],
   "source": [
    "# Ploting Loss In Training Set & Validation Set\n",
    "\n",
    "plt.plot(h['loss'])\n",
    "plt.plot(h['val_loss'] , c = \"red\")\n",
    "plt.title(\"loss vs v-loss\")\n",
    "plt.show()"
   ]
  },
  {
   "cell_type": "code",
   "execution_count": 20,
   "metadata": {},
   "outputs": [
    {
     "name": "stdout",
     "output_type": "stream",
     "text": [
      "23/23 [==============================] - 1s 44ms/step\n"
     ]
    },
    {
     "data": {
      "image/png": "[encoded data removed]",
      "text/plain": [
       "<Figure size 800x600 with 2 Axes>"
      ]
     },
     "metadata": {},
     "output_type": "display_data"
    },
    {
     "name": "stdout",
     "output_type": "stream",
     "text": [
      "Accuracy: 20.23%\n",
      "                          precision    recall  f1-score   support\n",
      "\n",
      "            Dyskeratotic       0.20      0.18      0.19       463\n",
      "            Koilocytotic       0.21      0.23      0.22       458\n",
      "             Metaplastic       0.19      0.19      0.19       437\n",
      "               Parabasal       0.19      0.18      0.18       438\n",
      "Superficial-Intermediate       0.22      0.23      0.23       468\n",
      "\n",
      "                accuracy                           0.20      2264\n",
      "               macro avg       0.20      0.20      0.20      2264\n",
      "            weighted avg       0.20      0.20      0.20      2264\n",
      "\n"
     ]
    }
   ],
   "source": [
    "from sklearn.metrics import confusion_matrix, classification_report, accuracy_score\n",
    "import seaborn as sns\n",
    "\n",
    "# Generate predictions for the test dataset\n",
    "y_pred = model.predict(test_data)\n",
    "\n",
    "# Convert the one-hot encoded predictions to class labels\n",
    "y_pred_classes = np.argmax(y_pred, axis=1)\n",
    "\n",
    "# Get the true class labels from the test dataset generator\n",
    "y_true = test_data.classes\n",
    "\n",
    "# Calculate the confusion matrix\n",
    "confusion_mtx = confusion_matrix(y_true, y_pred_classes)\n",
    "\n",
    "# Plot the confusion matrix\n",
    "plt.figure(figsize=(8, 6))\n",
    "sns.heatmap(confusion_mtx, annot=True, fmt='d', cmap='Blues', xticklabels=classes, yticklabels=classes)\n",
    "plt.xlabel('Predicted')\n",
    "plt.ylabel('True')\n",
    "plt.title('Confusion Matrix')\n",
    "plt.show()\n",
    "\n",
    "# Calculate accuracy\n",
    "accuracy = accuracy_score(y_true, y_pred_classes)\n",
    "print(f'Accuracy: {accuracy * 100:.2f}%')\n",
    "\n",
    "# Generate classification report to calculate precision, recall, and F1-score\n",
    "class_report = classification_report(y_true, y_pred_classes, target_names=classes)\n",
    "print(class_report)"
   ]
  },
  {
   "cell_type": "code",
   "execution_count": null,
   "metadata": {},
   "outputs": [],
   "source": []
  }
 ],
 "metadata": {
  "kernelspec": {
   "display_name": "Python 3 (ipykernel)",
   "language": "python",
   "name": "python3"
  },
  "language_info": {
   "codemirror_mode": {
    "name": "ipython",
    "version": 3
   },
   "file_extension": ".py",
   "mimetype": "text/x-python",
   "name": "python",
   "nbconvert_exporter": "python",
   "pygments_lexer": "ipython3",
   "version": "3.11.5"
  }
 },
 "nbformat": 4,
 "nbformat_minor": 4
}
